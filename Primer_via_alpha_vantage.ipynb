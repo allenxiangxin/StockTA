{
 "cells": [
  {
   "cell_type": "markdown",
   "metadata": {},
   "source": [
    "# Get the data from alpha_vantage API\n",
    "\n",
    "API Documentation: https://www.alphavantage.co/documentation/\n",
    "\n",
    "Python Module Package: https://github.com/RomelTorres/alpha_vantage"
   ]
  },
  {
   "cell_type": "code",
   "execution_count": 3,
   "metadata": {},
   "outputs": [
    {
     "ename": "ValueError",
     "evalue": "The **demo** API key is for demo purposes only. Please claim your free API key at (https://www.alphavantage.co/support/#api-key) to explore our full API offerings. It takes fewer than 20 seconds, and we are committed to making it free forever.",
     "output_type": "error",
     "traceback": [
      "\u001b[0;31m---------------------------------------------------------------------------\u001b[0m",
      "\u001b[0;31mValueError\u001b[0m                                Traceback (most recent call last)",
      "\u001b[0;32m<ipython-input-3-7e382c69aa13>\u001b[0m in \u001b[0;36m<module>\u001b[0;34m()\u001b[0m\n\u001b[1;32m     12\u001b[0m \u001b[0mti\u001b[0m \u001b[0;34m=\u001b[0m \u001b[0mTechIndicators\u001b[0m\u001b[0;34m(\u001b[0m\u001b[0mkey\u001b[0m\u001b[0;34m=\u001b[0m\u001b[0;34m'demo'\u001b[0m\u001b[0;34m,\u001b[0m \u001b[0moutput_format\u001b[0m\u001b[0;34m=\u001b[0m\u001b[0;34m'pandas'\u001b[0m\u001b[0;34m,\u001b[0m  \u001b[0mretries\u001b[0m\u001b[0;34m=\u001b[0m\u001b[0;36m1\u001b[0m\u001b[0;34m)\u001b[0m\u001b[0;34m\u001b[0m\u001b[0m\n\u001b[1;32m     13\u001b[0m \u001b[0msym_list\u001b[0m \u001b[0;34m=\u001b[0m \u001b[0;34m[\u001b[0m\u001b[0;34m'APPL'\u001b[0m\u001b[0;34m,\u001b[0m \u001b[0;34m'MU'\u001b[0m\u001b[0;34m]\u001b[0m\u001b[0;34m\u001b[0m\u001b[0m\n\u001b[0;32m---> 14\u001b[0;31m \u001b[0mmacd_d\u001b[0m\u001b[0;34m,\u001b[0m \u001b[0mmacd_meta_d\u001b[0m \u001b[0;34m=\u001b[0m \u001b[0mti\u001b[0m\u001b[0;34m.\u001b[0m\u001b[0mget_macd\u001b[0m\u001b[0;34m(\u001b[0m\u001b[0msymbol\u001b[0m\u001b[0;34m=\u001b[0m\u001b[0msym_list\u001b[0m\u001b[0;34m,\u001b[0m \u001b[0minterval\u001b[0m\u001b[0;34m=\u001b[0m\u001b[0;34m'weekly'\u001b[0m\u001b[0;34m,\u001b[0m \u001b[0mfastperiod\u001b[0m\u001b[0;34m=\u001b[0m\u001b[0;36m12\u001b[0m\u001b[0;34m,\u001b[0m \u001b[0mslowperiod\u001b[0m\u001b[0;34m=\u001b[0m\u001b[0;36m26\u001b[0m\u001b[0;34m,\u001b[0m \u001b[0msignalperiod\u001b[0m\u001b[0;34m=\u001b[0m\u001b[0;36m9\u001b[0m\u001b[0;34m)\u001b[0m\u001b[0;34m\u001b[0m\u001b[0m\n\u001b[0m\u001b[1;32m     15\u001b[0m \u001b[0;31m# time.sleep(0.1)   # Delays for 5 seconds. You can also use a float value.\u001b[0m\u001b[0;34m\u001b[0m\u001b[0;34m\u001b[0m\u001b[0m\n\u001b[1;32m     16\u001b[0m \u001b[0;31m# macd_d, macd_meta_d = ti.get_macd(symbol='APPL', interval='weekly', fastperiod=12, slowperiod=26, signalperiod=9)\u001b[0m\u001b[0;34m\u001b[0m\u001b[0;34m\u001b[0m\u001b[0m\n",
      "\u001b[0;32m~/anaconda3/lib/python3.6/site-packages/alpha_vantage/alphavantage.py\u001b[0m in \u001b[0;36m_format_wrapper\u001b[0;34m(self, *args, **kwargs)\u001b[0m\n\u001b[1;32m    173\u001b[0m         \u001b[0;32mdef\u001b[0m \u001b[0m_format_wrapper\u001b[0m\u001b[0;34m(\u001b[0m\u001b[0mself\u001b[0m\u001b[0;34m,\u001b[0m \u001b[0;34m*\u001b[0m\u001b[0margs\u001b[0m\u001b[0;34m,\u001b[0m \u001b[0;34m**\u001b[0m\u001b[0mkwargs\u001b[0m\u001b[0;34m)\u001b[0m\u001b[0;34m:\u001b[0m\u001b[0;34m\u001b[0m\u001b[0m\n\u001b[1;32m    174\u001b[0m             call_response, data_key, meta_data_key = func(\n\u001b[0;32m--> 175\u001b[0;31m                 self, *args, **kwargs)\n\u001b[0m\u001b[1;32m    176\u001b[0m             \u001b[0;32mif\u001b[0m \u001b[0;34m'json'\u001b[0m \u001b[0;32min\u001b[0m \u001b[0mself\u001b[0m\u001b[0;34m.\u001b[0m\u001b[0moutput_format\u001b[0m\u001b[0;34m.\u001b[0m\u001b[0mlower\u001b[0m\u001b[0;34m(\u001b[0m\u001b[0;34m)\u001b[0m \u001b[0;32mor\u001b[0m \u001b[0;34m'pandas'\u001b[0m\u001b[0;31m \u001b[0m\u001b[0;31m\\\u001b[0m\u001b[0;34m\u001b[0m\u001b[0m\n\u001b[1;32m    177\u001b[0m                     \u001b[0;32min\u001b[0m \u001b[0mself\u001b[0m\u001b[0;34m.\u001b[0m\u001b[0moutput_format\u001b[0m\u001b[0;34m.\u001b[0m\u001b[0mlower\u001b[0m\u001b[0;34m(\u001b[0m\u001b[0;34m)\u001b[0m\u001b[0;34m:\u001b[0m\u001b[0;34m\u001b[0m\u001b[0m\n",
      "\u001b[0;32m~/anaconda3/lib/python3.6/site-packages/alpha_vantage/alphavantage.py\u001b[0m in \u001b[0;36m_call_wrapper\u001b[0;34m(self, *args, **kwargs)\u001b[0m\n\u001b[1;32m    158\u001b[0m             \u001b[0;32melse\u001b[0m\u001b[0;34m:\u001b[0m\u001b[0;34m\u001b[0m\u001b[0m\n\u001b[1;32m    159\u001b[0m                 \u001b[0murl\u001b[0m \u001b[0;34m=\u001b[0m \u001b[0;34m'{}&apikey={}'\u001b[0m\u001b[0;34m.\u001b[0m\u001b[0mformat\u001b[0m\u001b[0;34m(\u001b[0m\u001b[0murl\u001b[0m\u001b[0;34m,\u001b[0m \u001b[0mself\u001b[0m\u001b[0;34m.\u001b[0m\u001b[0mkey\u001b[0m\u001b[0;34m)\u001b[0m\u001b[0;34m\u001b[0m\u001b[0m\n\u001b[0;32m--> 160\u001b[0;31m             \u001b[0;32mreturn\u001b[0m \u001b[0mself\u001b[0m\u001b[0;34m.\u001b[0m\u001b[0m_handle_api_call\u001b[0m\u001b[0;34m(\u001b[0m\u001b[0murl\u001b[0m\u001b[0;34m)\u001b[0m\u001b[0;34m,\u001b[0m \u001b[0mdata_key\u001b[0m\u001b[0;34m,\u001b[0m \u001b[0mmeta_data_key\u001b[0m\u001b[0;34m\u001b[0m\u001b[0m\n\u001b[0m\u001b[1;32m    161\u001b[0m         \u001b[0;32mreturn\u001b[0m \u001b[0m_call_wrapper\u001b[0m\u001b[0;34m\u001b[0m\u001b[0m\n\u001b[1;32m    162\u001b[0m \u001b[0;34m\u001b[0m\u001b[0m\n",
      "\u001b[0;32m~/anaconda3/lib/python3.6/site-packages/alpha_vantage/alphavantage.py\u001b[0m in \u001b[0;36m_retry_wrapper\u001b[0;34m(self, *args, **kwargs)\u001b[0m\n\u001b[1;32m     77\u001b[0m                 \u001b[0;32mexcept\u001b[0m \u001b[0mValueError\u001b[0m \u001b[0;32mas\u001b[0m \u001b[0merr\u001b[0m\u001b[0;34m:\u001b[0m\u001b[0;34m\u001b[0m\u001b[0m\n\u001b[1;32m     78\u001b[0m                     \u001b[0merror_message\u001b[0m \u001b[0;34m=\u001b[0m \u001b[0mstr\u001b[0m\u001b[0;34m(\u001b[0m\u001b[0merr\u001b[0m\u001b[0;34m)\u001b[0m\u001b[0;34m\u001b[0m\u001b[0m\n\u001b[0;32m---> 79\u001b[0;31m             \u001b[0;32mraise\u001b[0m \u001b[0mValueError\u001b[0m\u001b[0;34m(\u001b[0m\u001b[0mstr\u001b[0m\u001b[0;34m(\u001b[0m\u001b[0merror_message\u001b[0m\u001b[0;34m)\u001b[0m\u001b[0;34m)\u001b[0m\u001b[0;34m\u001b[0m\u001b[0m\n\u001b[0m\u001b[1;32m     80\u001b[0m         \u001b[0;32mreturn\u001b[0m \u001b[0m_retry_wrapper\u001b[0m\u001b[0;34m\u001b[0m\u001b[0m\n\u001b[1;32m     81\u001b[0m \u001b[0;34m\u001b[0m\u001b[0m\n",
      "\u001b[0;31mValueError\u001b[0m: The **demo** API key is for demo purposes only. Please claim your free API key at (https://www.alphavantage.co/support/#api-key) to explore our full API offerings. It takes fewer than 20 seconds, and we are committed to making it free forever."
     ]
    }
   ],
   "source": [
    "import time\n",
    "import pandas as pd\n",
    "from alpha_vantage.techindicators import TechIndicators\n",
    "\n",
    "#You won't see my api key :D\n",
    "with open ('private_info/alphavantage_api_key.txt', \"r\") as f:\n",
    "    for line in f:\n",
    "        for word in line.split():\n",
    "            my_key = word \n",
    "av_api_key = my_key\n",
    "\n",
    "ti = TechIndicators(key='demo', output_format='pandas',  retries=1)\n",
    "sym_list = ['APPL', 'MU']\n",
    "macd_d, macd_meta_d = ti.get_macd(symbol=sym_list, interval='weekly', fastperiod=12, slowperiod=26, signalperiod=9)\n",
    "# time.sleep(0.1)   # Delays for 5 seconds. You can also use a float value.\n",
    "# macd_d, macd_meta_d = ti.get_macd(symbol='APPL', interval='weekly', fastperiod=12, slowperiod=26, signalperiod=9)\n",
    "# time.sleep(0.1)   # Delays for 5 seconds. You can also use a float value.\n",
    "# macd_d, macd_meta_d = ti.get_macd(symbol='APPL', interval='weekly', fastperiod=12, slowperiod=26, signalperiod=9)\n",
    "# time.sleep(0.1)   # Delays for 5 seconds. You can also use a float value.\n",
    "# macd_d, macd_meta_d = ti.get_macd(symbol='APPL', interval='weekly', fastperiod=12, slowperiod=26, signalperiod=9)\n",
    "# time.sleep(0.1)   # Delays for 5 seconds. You can also use a float value.\n",
    "# macd_d, macd_meta_d = ti.get_macd(symbol='APPL', interval='weekly', fastperiod=12, slowperiod=26, signalperiod=9)\n",
    "# time.sleep(0.1)   # Delays for 5 seconds. You can also use a float value.\n",
    "# macd_d, macd_meta_d = ti.get_macd(symbol='APPL', interval='weekly', fastperiod=12, slowperiod=26, signalperiod=9)\n",
    "\n",
    "# macd_w, macd_meta_w = ti.get_macd(symbol='EXC', interval='weekly', fastperiod=12, slowperiod=26, signalperiod=9)\n",
    "# rsi_d, rsi_meta_d = ti.get_rsi(symbol='BAC')\n",
    "# rsi_w, rsi_meta_w = ti.get_rsi(symbol='APPL')\n",
    "\n",
    "# macd_d, macd_meta_d = ti.get_macd(symbol='MU', interval='weekly', fastperiod=12, slowperiod=26, signalperiod=9)\n",
    "# macd_w, macd_meta_w = ti.get_macd(symbol='TSLA', interval='weekly', fastperiod=12, slowperiod=26, signalperiod=9)\n",
    "# rsi_d, rsi_meta_d = ti.get_rsi(symbol='JNJ')\n",
    "# rsi_w, rsi_meta_w = ti.get_rsi(symbol='DIS')"
   ]
  },
  {
   "cell_type": "code",
   "execution_count": null,
   "metadata": {},
   "outputs": [],
   "source": []
  },
  {
   "cell_type": "code",
   "execution_count": null,
   "metadata": {},
   "outputs": [],
   "source": [
    "rsi_d, rsi_meta_d = ti.get_rsi(symbol='BAC')\n"
   ]
  },
  {
   "cell_type": "code",
   "execution_count": null,
   "metadata": {},
   "outputs": [],
   "source": [
    "macd_w, macd_meta_w = ti.get_macd(symbol='EXC', interval='weekly', fastperiod=12, slowperiod=26, signalperiod=9)\n"
   ]
  },
  {
   "cell_type": "code",
   "execution_count": null,
   "metadata": {},
   "outputs": [],
   "source": [
    "rsi_w, rsi_meta_w = ti.get_rsi(symbol='APPL')"
   ]
  },
  {
   "cell_type": "code",
   "execution_count": null,
   "metadata": {},
   "outputs": [],
   "source": [
    "import pandas as pd\n",
    "import datetime\n",
    "from alpha_vantage.timeseries import TimeSeries\n",
    "from alpha_vantage.techindicators import TechIndicators\n",
    "from alpha_vantage.sectorperformance import SectorPerformances\n",
    "\n",
    "#You won't see my api key :D\n",
    "with open ('private_info/alphavantage_api_key.txt', \"r\") as f:\n",
    "    for line in f:\n",
    "        for word in line.split():\n",
    "            my_key = word \n",
    "av_api_key = my_key\n",
    "\n",
    "aTicker='^RUT'\n",
    "ts = TimeSeries(key=av_api_key, output_format='pandas', indexing_type='date')\n",
    "ts_data, ts_meta_data = ts.get_intraday(symbol=aTicker, interval='60min', outputsize='full')\n",
    "\n",
    "ti = TechIndicators(key=av_api_key, output_format='pandas')\n",
    "ti_data, ti_meta_data =  ti.get_macd(symbol=aTicker, interval='daily', fastperiod=12, slowperiod=26, signalperiod=9)\n",
    "\n",
    "sp = SectorPerformances(key=av_api_key, output_format='pandas')\n",
    "sp_data, sp_meta_data = sp.get_sector()"
   ]
  },
  {
   "cell_type": "code",
   "execution_count": null,
   "metadata": {},
   "outputs": [],
   "source": []
  },
  {
   "cell_type": "markdown",
   "metadata": {},
   "source": [
    "## Sector Performace Overview"
   ]
  },
  {
   "cell_type": "code",
   "execution_count": null,
   "metadata": {},
   "outputs": [],
   "source": [
    "sp_data.head(5)"
   ]
  },
  {
   "cell_type": "code",
   "execution_count": null,
   "metadata": {},
   "outputs": [],
   "source": [
    "import matplotlib.pyplot as plt\n",
    "\n",
    "plt.figure(dpi=100)\n",
    "sp_data['Rank A: Real-Time Performance'].plot(kind='bar')\n",
    "plt.title('Real Time Performance (%) per Sector')\n",
    "plt.tight_layout()\n",
    "plt.grid(axis='y')\n",
    "plt.show()\n",
    "\n",
    "plt.figure(dpi=100)\n",
    "sp_data['Rank B: Day Performance'].plot(kind='bar')\n",
    "plt.title('Day Performance (%) per Sector')\n",
    "plt.tight_layout()\n",
    "plt.grid(axis='y')\n",
    "plt.show()"
   ]
  },
  {
   "cell_type": "markdown",
   "metadata": {},
   "source": [
    "##   Time Series Data"
   ]
  },
  {
   "cell_type": "code",
   "execution_count": null,
   "metadata": {},
   "outputs": [],
   "source": [
    "start_datetime = '2018-06-01 09:30:00'\n",
    "mask = (ts_data.index > start_datetime)\n",
    "ts_data = ts_data.loc[mask]\n",
    "ts_data.head(5)\n",
    "# Older data not available???"
   ]
  },
  {
   "cell_type": "code",
   "execution_count": null,
   "metadata": {},
   "outputs": [],
   "source": [
    "plt.figure(dpi=100)\n",
    "ts_data['4. close'].plot()\n",
    "plt.title('Intraday Times Series for the '+aTicker+' stock (60 min)')\n",
    "plt.show()"
   ]
  },
  {
   "cell_type": "markdown",
   "metadata": {},
   "source": [
    "## Tech Indicator Data"
   ]
  },
  {
   "cell_type": "code",
   "execution_count": null,
   "metadata": {},
   "outputs": [],
   "source": [
    "start_date = '2018-01-01'\n",
    "mask = (ti_data.index >= start_date)\n",
    "ti_data = ti_data.loc[mask]\n",
    "ti_data.head(5)"
   ]
  },
  {
   "cell_type": "code",
   "execution_count": null,
   "metadata": {},
   "outputs": [],
   "source": [
    "import matplotlib.dates as mdates\n",
    "\n",
    "plt.figure(dpi=100)\n",
    "ti_data['MACD'].plot(label='MACD', color='blue')\n",
    "ti_data['MACD_Signal'].plot(label='MACD_Signal', color='orange')\n",
    "\n",
    "plt.title('Mac indicator for ' +aTicker +' stock (daily)')\n",
    "#plt.ylim(-3,3)\n",
    "plt.legend()\n",
    "plt.show()\n",
    "\n",
    "fig = plt.figure(dpi=100)\n",
    "ti_data['MACD_Hist'].plot(label='MACD_Hist', color='blue', kind='bar')\n",
    "plt.tick_params(\n",
    "    axis='x',          # changes apply to the x-axis\n",
    "    which='both',      # both major and minor ticks are affected\n",
    "    bottom=False,      # ticks along the bottom edge are off\n",
    "    top=False,         # ticks along the top edge are off\n",
    "    labelbottom=False) # labels along the bottom edge are off\n",
    "plt.show()\n",
    "print(ti_data['MACD_Hist'][-1])"
   ]
  },
  {
   "cell_type": "code",
   "execution_count": null,
   "metadata": {},
   "outputs": [],
   "source": [
    "rsi_d, rsi_meta_d = ti.get_rsi(symbol=aTicker, interval='daily')\n",
    "rsi_w, rsi_meta_w = ti.get_rsi(symbol=aTicker, interval='weekly')\n",
    "import datetime\n",
    "start_date = '2018-09-01'"
   ]
  },
  {
   "cell_type": "markdown",
   "metadata": {},
   "source": [
    "**ToDO: Fix the data axis tick**"
   ]
  }
 ],
 "metadata": {
  "kernelspec": {
   "display_name": "Python 3",
   "language": "python",
   "name": "python3"
  },
  "language_info": {
   "codemirror_mode": {
    "name": "ipython",
    "version": 3
   },
   "file_extension": ".py",
   "mimetype": "text/x-python",
   "name": "python",
   "nbconvert_exporter": "python",
   "pygments_lexer": "ipython3",
   "version": "3.6.5"
  }
 },
 "nbformat": 4,
 "nbformat_minor": 2
}
